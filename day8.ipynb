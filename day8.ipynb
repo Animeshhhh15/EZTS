{
 "cells": [
  {
   "cell_type": "markdown",
   "metadata": {},
   "source": [
    "MAXIMUM SUM OF SUB-ARRAY"
   ]
  },
  {
   "cell_type": "code",
   "execution_count": 5,
   "metadata": {},
   "outputs": [
    {
     "name": "stdout",
     "output_type": "stream",
     "text": [
      "7\n",
      "3\n",
      "8\n"
     ]
    }
   ],
   "source": [
    "def max_sum_subarray(arr):\n",
    "    size=len(arr)\n",
    "    cs=0\n",
    "    max=arr[0]\n",
    "    st=0\n",
    "    end=0\n",
    "    p=0\n",
    "    for i in range(0,size):\n",
    "        cs+=arr[i]\n",
    "        if cs>max:\n",
    "            max=cs\n",
    "            st=p \n",
    "            end=i\n",
    "        if cs<0:\n",
    "            cs=0\n",
    "            p=i+1\n",
    "    print(max)\n",
    "    print(st)\n",
    "    print(end)\n",
    "arr=[4,-3,-2,2,3,1,-2,-3,6,-6,-4,2,1]\n",
    "max_sum_subarray(arr)    \n"
   ]
  },
  {
   "cell_type": "code",
   "execution_count": 21,
   "metadata": {},
   "outputs": [
    {
     "name": "stdout",
     "output_type": "stream",
     "text": [
      "10\n"
     ]
    }
   ],
   "source": [
    "def solve(nums,n):\n",
    "    maxx=nums[0]\n",
    "    maxe=nums[0]\n",
    "    for num in nums[1:]:\n",
    "        maxe=max(num,maxe+num)\n",
    "        maxx=max(maxx,maxe)\n",
    "    return maxx\n",
    "n=int(input())\n",
    "arr=list(map(int,input().split()))\n",
    "print(solve(arr,n))"
   ]
  },
  {
   "cell_type": "markdown",
   "metadata": {},
   "source": [
    "VOWEL IN STRING"
   ]
  },
  {
   "cell_type": "code",
   "execution_count": 8,
   "metadata": {},
   "outputs": [
    {
     "name": "stdout",
     "output_type": "stream",
     "text": [
      "i\n"
     ]
    }
   ],
   "source": [
    "def most_frequent_vowels(s):\n",
    "    vowels=\"aieou\"\n",
    "    count={}\n",
    "    for v in vowels:\n",
    "        count[v]=0\n",
    "    for char in s:\n",
    "        if char in vowels:\n",
    "            count[char]+=1\n",
    "    most_frequent=None\n",
    "    max_count=-1\n",
    "    for vowel in vowels:\n",
    "        if count[vowel]>max_count:\n",
    "            most_frequent=vowel\n",
    "            max_count=count[vowel]\n",
    "    return most_frequent\n",
    "s=input()\n",
    "print(most_frequent_vowels(s))"
   ]
  },
  {
   "cell_type": "code",
   "execution_count": 12,
   "metadata": {},
   "outputs": [
    {
     "name": "stdout",
     "output_type": "stream",
     "text": [
      "o 2\n",
      "u 1\n"
     ]
    }
   ],
   "source": [
    "s=input().lower()\n",
    "v=\"aeiou\"\n",
    "vowel_count={}\n",
    "for i in v:\n",
    "    if i in s:\n",
    "        t=s.count(i)\n",
    "        vowel_count[i]=t\n",
    "for vowel,count in vowel_count.items():\n",
    "    print(vowel,count)\n"
   ]
  },
  {
   "cell_type": "markdown",
   "metadata": {},
   "source": [
    "NUMBER OF COMBINATIONS LEADING TO A PRODUCT"
   ]
  },
  {
   "cell_type": "code",
   "execution_count": 9,
   "metadata": {},
   "outputs": [
    {
     "name": "stdout",
     "output_type": "stream",
     "text": [
      "3\n"
     ]
    }
   ],
   "source": [
    "n=int(input(\"n:\"))\n",
    "arr=[int(input()) for i in range(n)]\n",
    "m=int(input(\"m:\"))\n",
    "arr.sort()\n",
    "k,count=0,0\n",
    "for k in range(n-2):\n",
    "    i,j=k+1,n-1\n",
    "    while i<j:\n",
    "        pro=arr[i]*arr[j]*arr[k]\n",
    "        if pro>m:\n",
    "            j-=1\n",
    "        elif pro<m:\n",
    "            i+=1\n",
    "        else:\n",
    "            count+=1\n",
    "            i+=1\n",
    "            j-=1\n",
    "print(count)\n"
   ]
  },
  {
   "cell_type": "markdown",
   "metadata": {},
   "source": [
    "EQUILIBRIUM"
   ]
  },
  {
   "cell_type": "code",
   "execution_count": 11,
   "metadata": {},
   "outputs": [
    {
     "name": "stdout",
     "output_type": "stream",
     "text": [
      "not found\n"
     ]
    }
   ],
   "source": [
    "n=int(input(\"n:\"))\n",
    "arr=[int(input()) for i in range(n)]\n",
    "left=0\n",
    "right=0\n",
    "for i in range(n//2):\n",
    "    left=left+arr[i]\n",
    "for i in range(n//2+1,n):\n",
    "    right=right+arr[i]\n",
    "if left==right:\n",
    "    print(arr[n//2])\n",
    "else: \n",
    "    print('not found')"
   ]
  },
  {
   "cell_type": "markdown",
   "metadata": {},
   "source": [
    "BORING ARRAYS"
   ]
  },
  {
   "cell_type": "code",
   "execution_count": 24,
   "metadata": {},
   "outputs": [
    {
     "name": "stdout",
     "output_type": "stream",
     "text": [
      "6\n"
     ]
    }
   ],
   "source": [
    "n=int(input())\n",
    "arr=list(map(int,input().split()))\n",
    "arr.sort()\n",
    "res=[]\n",
    "start=0\n",
    "end=-1\n",
    "while 1 <len(arr):\n",
    "    res.append(abs(arr[start]-arr[end]))\n",
    "    arr.pop(start)\n",
    "    arr.pop(end)\n",
    "print(sum(res))\n"
   ]
  },
  {
   "cell_type": "markdown",
   "metadata": {},
   "source": [
    "MAXIMUM PAIR PRODUCT"
   ]
  },
  {
   "cell_type": "code",
   "execution_count": null,
   "metadata": {},
   "outputs": [],
   "source": [
    "                                                                                                                     "
   ]
  }
 ],
 "metadata": {
  "kernelspec": {
   "display_name": "Python 3",
   "language": "python",
   "name": "python3"
  },
  "language_info": {
   "name": "python",
   "version": "3.11.6"
  }
 },
 "nbformat": 4,
 "nbformat_minor": 2
}
