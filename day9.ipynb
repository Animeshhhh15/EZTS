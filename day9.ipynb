{
 "cells": [
  {
   "cell_type": "markdown",
   "metadata": {},
   "source": [
    "UNIQUE NUMBER WITH O(N)"
   ]
  },
  {
   "cell_type": "markdown",
   "metadata": {},
   "source": [
    " GENERATED NUMBERS"
   ]
  },
  {
   "cell_type": "code",
   "execution_count": 8,
   "metadata": {},
   "outputs": [
    {
     "name": "stdout",
     "output_type": "stream",
     "text": [
      "{1, 2, 4, 5, 7, 10}\n",
      "6\n"
     ]
    }
   ],
   "source": [
    "m,a,b=list(map(int,input().split()))\n",
    "unique_values=set()\n",
    "for i in range(m):\n",
    "    for j in range(m):\n",
    "        remaining_value=m-i*a-j*b\n",
    "        if remaining_value>0:\n",
    "            unique_values.add(remaining_value)\n",
    "print(unique_values)\n",
    "print(len(unique_values))"
   ]
  },
  {
   "cell_type": "code",
   "execution_count": 9,
   "metadata": {},
   "outputs": [
    {
     "name": "stdout",
     "output_type": "stream",
     "text": [
      "{1, 2, 4, 5, 7, 10}\n",
      "6\n"
     ]
    }
   ],
   "source": [
    "m,a,b=list(map(int,input().split()))\n",
    "unique_values=set()\n",
    "for i in range(m//3+1):\n",
    "    for j in range(m//5+1):\n",
    "        remaining_value=m-i*a-j*b\n",
    "        if remaining_value>0:\n",
    "            unique_values.add(remaining_value)\n",
    "print(unique_values)\n",
    "print(len(unique_values))"
   ]
  },
  {
   "cell_type": "markdown",
   "metadata": {},
   "source": [
    "SOLVE THE EQUATION"
   ]
  },
  {
   "cell_type": "code",
   "execution_count": 25,
   "metadata": {},
   "outputs": [
    {
     "name": "stdout",
     "output_type": "stream",
     "text": [
      "0 2 2\n",
      "2 0 2\n",
      "2 2 0\n",
      "3\n"
     ]
    }
   ],
   "source": [
    "N=int(input())\n",
    "count=0\n",
    "for i in range(N):\n",
    "    for j in range(N):\n",
    "        for k in range(N):\n",
    "            if i**2+j**2+k**2+i*j+j*k+k*i==N:\n",
    "                count+=1\n",
    "                if i==j==k:\n",
    "                    print(i)\n",
    "                else:\n",
    "                    print(i,j,k)\n",
    "print(count)\n",
    "           \n"
   ]
  },
  {
   "cell_type": "markdown",
   "metadata": {},
   "source": [
    "REDUCE TILL ZEROM"
   ]
  },
  {
   "cell_type": "code",
   "execution_count": 26,
   "metadata": {},
   "outputs": [
    {
     "name": "stdout",
     "output_type": "stream",
     "text": [
      "6\n"
     ]
    }
   ],
   "source": [
    "a=int(input())\n",
    "b=int(input())\n",
    "while(b>0):\n",
    "    if (a<b):\n",
    "        a,b=b,a\n",
    "    else:\n",
    "        a,b=b,a-b\n",
    "print(a)"
   ]
  },
  {
   "cell_type": "markdown",
   "metadata": {},
   "source": [
    "PIZZA PARTY"
   ]
  },
  {
   "cell_type": "code",
   "execution_count": 29,
   "metadata": {},
   "outputs": [
    {
     "name": "stdout",
     "output_type": "stream",
     "text": [
      "1\n"
     ]
    }
   ],
   "source": [
    "def solve(a,b):\n",
    "    for i in range(b,a+1):\n",
    "        if a%i==0:\n",
    "            return sum(int(x) for x in str(i))\n",
    "    return -1\n",
    "\n",
    "a,b=list(map(int,input().split()))\n",
    "print(solve(a,b))"
   ]
  },
  {
   "cell_type": "code",
   "execution_count": 5,
   "metadata": {},
   "outputs": [
    {
     "name": "stdout",
     "output_type": "stream",
     "text": [
      "[10, 8]\n"
     ]
    }
   ],
   "source": [
    "n=int(input())\n",
    "arr=list(map(int,input().split()))\n",
    "a=[]\n",
    "t=0\n",
    "prod=0\n",
    "for i in range(len(arr)):\n",
    "    for j in range(len(arr)):\n",
    "        if arr[i]+arr[j]==18:\n",
    "            if arr[i]>arr[j]:\n",
    "                prod=arr[i]*arr[j]\n",
    "                if prod>t:\n",
    "                    t=prod\n",
    "                    a.append(arr[i])\n",
    "                    a.append(arr[j])\n",
    "print(a)"
   ]
  },
  {
   "cell_type": "markdown",
   "metadata": {},
   "source": [
    "SALT and PEPPER"
   ]
  },
  {
   "cell_type": "code",
   "execution_count": 7,
   "metadata": {},
   "outputs": [
    {
     "name": "stdout",
     "output_type": "stream",
     "text": [
      "11\n"
     ]
    }
   ],
   "source": [
    "def solve(n,salt,pepper):\n",
    "    s,p=0,0\n",
    "    r=[]\n",
    "    for i in range(len(salt)):\n",
    "        r.append(salt[i]+pepper[i])\n",
    "    return max(r)\n",
    "n=int(input())\n",
    "salt=list(map(int,input().split()))\n",
    "pepper=list(map(int,input().split()))\n",
    "res=solve(n,salt,pepper)\n",
    "print(res)\n"
   ]
  },
  {
   "cell_type": "markdown",
   "metadata": {},
   "source": [
    "PREFIX-SUFFIX BALANCE"
   ]
  },
  {
   "cell_type": "code",
   "execution_count": 15,
   "metadata": {},
   "outputs": [
    {
     "name": "stdout",
     "output_type": "stream",
     "text": [
      "[13, 9, 3, 5, 15]\n"
     ]
    }
   ],
   "source": [
    "def find_absolute_diff(N,A):\n",
    "    result=[]\n",
    "    total_sum=sum(A)\n",
    "    first_part_sum=0\n",
    "    for i in range(N):\n",
    "        first_part_sum+=A[i]\n",
    "        second_part_sum=total_sum-first_part_sum\n",
    "        difference=abs(first_part_sum-second_part_sum)\n",
    "        result.append(difference)\n",
    "    return result\n",
    "N=5\n",
    "A=[1,2,3,4,5]\n",
    "print(find_absolute_diff(N,A))\n",
    "\n",
    "\n",
    "\n"
   ]
  },
  {
   "cell_type": "code",
   "execution_count": null,
   "metadata": {},
   "outputs": [],
   "source": []
  }
 ],
 "metadata": {
  "kernelspec": {
   "display_name": "Python 3",
   "language": "python",
   "name": "python3"
  },
  "language_info": {
   "name": "python",
   "version": "3.11.6"
  }
 },
 "nbformat": 4,
 "nbformat_minor": 2
}
