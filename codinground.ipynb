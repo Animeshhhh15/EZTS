{
 "cells": [
  {
   "cell_type": "markdown",
   "metadata": {},
   "source": [
    "VOWELS CONSONANTS"
   ]
  },
  {
   "cell_type": "code",
   "execution_count": null,
   "metadata": {},
   "outputs": [],
   "source": [
    "\n",
    "s=input()\n",
    "vowels,consonants=0,0\n",
    "for i in range(len(s)):\n",
    "    if s[i] in \"aeiou\":\n",
    "        vowels+=1\n",
    "    else:\n",
    "        consonants+=1\n",
    "print(f\"Number of vowels:{vowels}\")\n",
    "print(f\"Number of consonants:{consonants}\")"
   ]
  },
  {
   "cell_type": "markdown",
   "metadata": {},
   "source": [
    "CARS FINE"
   ]
  },
  {
   "cell_type": "code",
   "execution_count": 3,
   "metadata": {},
   "outputs": [
    {
     "name": "stdout",
     "output_type": "stream",
     "text": [
      "500\n"
     ]
    }
   ],
   "source": [
    "date = int(input())\n",
    "n=int(input())\n",
    "if n==0:\n",
    "    print(-1)\n",
    "else:\n",
    "    cars=list(map(int,input().split()))\n",
    "    fine=0\n",
    "    if date%2==0:\n",
    "        for car in cars:\n",
    "            if car%2!=0:\n",
    "                fine+=250\n",
    "    else:\n",
    "        for car in cars:\n",
    "            if car%2==0:\n",
    "                fine+=250\n",
    "print(fine)"
   ]
  },
  {
   "cell_type": "markdown",
   "metadata": {},
   "source": [
    "MAXIMUM SUM OF SUB-ARRAY"
   ]
  },
  {
   "cell_type": "code",
   "execution_count": null,
   "metadata": {},
   "outputs": [],
   "source": [
    "#KADANE ALGORITHM\n",
    "n=int(input())\n",
    "arr=list(map(int,input().split()))\n",
    "max_sum=float(\"inf\")\n",
    "present_sum=0\n",
    "for i in arr:\n",
    "    present_sum=max(i,present_sum+i)\n",
    "    "
   ]
  },
  {
   "cell_type": "code",
   "execution_count": 1,
   "metadata": {},
   "outputs": [
    {
     "name": "stdout",
     "output_type": "stream",
     "text": [
      "5\n"
     ]
    }
   ],
   "source": []
  },
  {
   "cell_type": "code",
   "execution_count": null,
   "metadata": {},
   "outputs": [],
   "source": []
  }
 ],
 "metadata": {
  "kernelspec": {
   "display_name": "Python 3",
   "language": "python",
   "name": "python3"
  },
  "language_info": {
   "codemirror_mode": {
    "name": "ipython",
    "version": 3
   },
   "file_extension": ".py",
   "mimetype": "text/x-python",
   "name": "python",
   "nbconvert_exporter": "python",
   "pygments_lexer": "ipython3",
   "version": "3.11.6"
  }
 },
 "nbformat": 4,
 "nbformat_minor": 2
}
