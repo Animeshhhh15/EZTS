{
 "cells": [
  {
   "cell_type": "markdown",
   "metadata": {},
   "source": [
    "BEST GRADE"
   ]
  },
  {
   "cell_type": "code",
   "execution_count": 9,
   "metadata": {},
   "outputs": [
    {
     "name": "stdout",
     "output_type": "stream",
     "text": [
      "a\n"
     ]
    }
   ],
   "source": [
    "a='zaecfdgaha'\n",
    "b=3\n",
    "c=2\n",
    "grade=[b-1]\n",
    "if(b-c>1):\n",
    "    start=b-c-1\n",
    "else:\n",
    "    start=0\n",
    "if(b+c<=len(a)):\n",
    "    end=b+c\n",
    "else:\n",
    "    end=len(a)\n",
    "print(min(a[start:end]))"
   ]
  },
  {
   "cell_type": "code",
   "execution_count": 16,
   "metadata": {},
   "outputs": [
    {
     "name": "stdout",
     "output_type": "stream",
     "text": [
      "g\n"
     ]
    }
   ],
   "source": [
    "s=input()\n",
    "p=int(input())\n",
    "k=int(input())\n",
    "start=max(0,p-k-1)\n",
    "end=min(len(s),p+k)\n",
    "print(min(list(s[start:end])))"
   ]
  },
  {
   "cell_type": "markdown",
   "metadata": {},
   "source": [
    "FINDING COMMAS"
   ]
  },
  {
   "cell_type": "code",
   "execution_count": 24,
   "metadata": {},
   "outputs": [
    {
     "name": "stdout",
     "output_type": "stream",
     "text": [
      "1\n"
     ]
    }
   ],
   "source": [
    "n=int(input())\n",
    "count=0\n",
    "if n>4:\n",
    "    for i in range(n,1,-1):\n",
    "        if i%3==0:\n",
    "            count+=1\n",
    "    print (count)"
   ]
  },
  {
   "cell_type": "code",
   "execution_count": 25,
   "metadata": {},
   "outputs": [
    {
     "name": "stdout",
     "output_type": "stream",
     "text": [
      "4001\n"
     ]
    }
   ],
   "source": [
    "n=int(input())\n",
    "cur=1000\n",
    "res=0\n",
    "comma=0\n",
    "while cur<=n:\n",
    "    next=cur*1000\n",
    "    num=min(n-cur+1,next-cur)\n",
    "    res+=num*comma\n",
    "    cur=next\n",
    "    comma+=1\n",
    "print(res)"
   ]
  },
  {
   "cell_type": "markdown",
   "metadata": {},
   "source": [
    "reverse string"
   ]
  },
  {
   "cell_type": "code",
   "execution_count": 26,
   "metadata": {},
   "outputs": [
    {
     "name": "stdout",
     "output_type": "stream",
     "text": [
      "gad ani\n"
     ]
    }
   ],
   "source": [
    "s=input().split()\n",
    "s=s[::-1]\n",
    "print(*s)"
   ]
  },
  {
   "cell_type": "code",
   "execution_count": 29,
   "metadata": {},
   "outputs": [
    {
     "name": "stdout",
     "output_type": "stream",
     "text": [
      "gadge animesh\n"
     ]
    }
   ],
   "source": [
    "n=list(map(str,input().split()))\n",
    "n.reverse()\n",
    "print(*n)"
   ]
  },
  {
   "cell_type": "code",
   "execution_count": 30,
   "metadata": {},
   "outputs": [
    {
     "name": "stdout",
     "output_type": "stream",
     "text": [
      "b a\n"
     ]
    }
   ],
   "source": [
    "s=input().split()\n",
    "s.reverse()\n",
    "print(*s)"
   ]
  },
  {
   "cell_type": "markdown",
   "metadata": {},
   "source": [
    "pattern"
   ]
  },
  {
   "cell_type": "code",
   "execution_count": 33,
   "metadata": {},
   "outputs": [
    {
     "name": "stdout",
     "output_type": "stream",
     "text": [
      "3 3 3 2 2 2 1 1 1\n",
      "3 3 2 2 1 1\n",
      "3 2 1\n"
     ]
    }
   ],
   "source": [
    "n=3\n",
    "for i in range(n,0,-1):\n",
    "    b=[]\n",
    "    for j in range(n,0,-1):\n",
    "        b+=[j]*i\n",
    "    print(*b,sep=' ')\n",
    "\n",
    "\n",
    "\n"
   ]
  },
  {
   "cell_type": "markdown",
   "metadata": {},
   "source": [
    "SMALLEST NUMBER"
   ]
  },
  {
   "cell_type": "code",
   "execution_count": 34,
   "metadata": {},
   "outputs": [
    {
     "name": "stdout",
     "output_type": "stream",
     "text": [
      "5\n"
     ]
    }
   ],
   "source": []
  },
  {
   "cell_type": "code",
   "execution_count": 1,
   "metadata": {},
   "outputs": [
    {
     "ename": "ValueError",
     "evalue": "invalid literal for int() with base 10: '10 5 120'",
     "output_type": "error",
     "traceback": [
      "\u001b[1;31m---------------------------------------------------------------------------\u001b[0m",
      "\u001b[1;31mValueError\u001b[0m                                Traceback (most recent call last)",
      "Cell \u001b[1;32mIn[1], line 1\u001b[0m\n\u001b[1;32m----> 1\u001b[0m a,b,c\u001b[38;5;241m=\u001b[39m\u001b[38;5;28;43mint\u001b[39;49m\u001b[43m(\u001b[49m\u001b[38;5;28;43minput\u001b[39;49m\u001b[43m(\u001b[49m\u001b[43m)\u001b[49m\u001b[43m)\u001b[49m,\u001b[38;5;28mint\u001b[39m(\u001b[38;5;28minput\u001b[39m()),\u001b[38;5;28mint\u001b[39m(\u001b[38;5;28minput\u001b[39m())\n\u001b[0;32m      2\u001b[0m \u001b[38;5;28mprint\u001b[39m(\u001b[38;5;28mmin\u001b[39m(a,b,c))\n",
      "\u001b[1;31mValueError\u001b[0m: invalid literal for int() with base 10: '10 5 120'"
     ]
    }
   ],
   "source": [
    "a,b,c=int(input()),int(input()),int(input())\n",
    "print(min(a,b,c))"
   ]
  },
  {
   "cell_type": "code",
   "execution_count": 7,
   "metadata": {},
   "outputs": [
    {
     "name": "stdout",
     "output_type": "stream",
     "text": [
      "(0, 3)\n"
     ]
    }
   ],
   "source": [
    "a=list(map(int,input().split()))\n",
    "b=int(input())\n",
    "for i in  range(len(a)):\n",
    "    s=b-a[i]\n",
    "    if s in a:\n",
    "        print((i,a.index(s)))\n",
    "        break\n",
    "\n"
   ]
  },
  {
   "cell_type": "code",
   "execution_count": 6,
   "metadata": {},
   "outputs": [
    {
     "ename": "IndexError",
     "evalue": "list index out of range",
     "output_type": "error",
     "traceback": [
      "\u001b[1;31m---------------------------------------------------------------------------\u001b[0m",
      "\u001b[1;31mIndexError\u001b[0m                                Traceback (most recent call last)",
      "Cell \u001b[1;32mIn[6], line 5\u001b[0m\n\u001b[0;32m      3\u001b[0m \u001b[38;5;28;01mfor\u001b[39;00m i \u001b[38;5;129;01min\u001b[39;00m a:\n\u001b[0;32m      4\u001b[0m     \u001b[38;5;28;01mfor\u001b[39;00m j \u001b[38;5;129;01min\u001b[39;00m a:\n\u001b[1;32m----> 5\u001b[0m         \u001b[38;5;28msum\u001b[39m\u001b[38;5;241m=\u001b[39ma[i]\u001b[38;5;241m+\u001b[39m\u001b[43ma\u001b[49m\u001b[43m[\u001b[49m\u001b[43mj\u001b[49m\u001b[43m]\u001b[49m\n\u001b[0;32m      6\u001b[0m     \u001b[38;5;28;01mif\u001b[39;00m \u001b[38;5;28msum\u001b[39m\u001b[38;5;241m==\u001b[39mb:\n\u001b[0;32m      7\u001b[0m         \u001b[38;5;28mprint\u001b[39m(a[i],a[j])\n",
      "\u001b[1;31mIndexError\u001b[0m: list index out of range"
     ]
    }
   ],
   "source": [
    "a=list(map(int,input().split()))\n",
    "b=(input())\n",
    "for i in a:\n",
    "    for j in a:\n",
    "        sum=a[i]+a[j]\n",
    "    if sum==b:\n",
    "        print(a[i],a[j])\n"
   ]
  },
  {
   "cell_type": "markdown",
   "metadata": {},
   "source": [
    "MISSING ALPHABETS"
   ]
  },
  {
   "cell_type": "markdown",
   "metadata": {},
   "source": [
    "GCD"
   ]
  },
  {
   "cell_type": "code",
   "execution_count": 4,
   "metadata": {},
   "outputs": [
    {
     "name": "stdout",
     "output_type": "stream",
     "text": [
      "6\n",
      "36\n"
     ]
    }
   ],
   "source": [
    "def gcd(a,b):\n",
    "    while b:\n",
    "        a,b=b,a%b\n",
    "    return a\n",
    "def lcm(a,b):\n",
    "    return (a*b)//gcd(a,b)\n",
    "a,b=map(int,input().split())\n",
    "gcd_value=gcd(a,b)\n",
    "lcm_value=lcm(a,b)\n",
    "print(gcd_value)\n",
    "print(lcm_value)"
   ]
  },
  {
   "cell_type": "markdown",
   "metadata": {},
   "source": [
    "PEAK ELEMENT FINDERM"
   ]
  },
  {
   "cell_type": "code",
   "execution_count": 1,
   "metadata": {},
   "outputs": [
    {
     "name": "stdout",
     "output_type": "stream",
     "text": [
      "1\n"
     ]
    }
   ],
   "source": [
    "def fd(arr):\n",
    "    n=len(arr)\n",
    "    if n==1 or arr[0]>=arr[1]:\n",
    "        return 0\n",
    "    if arr[n-1]>=arr[n-2]:\n",
    "        return n-1\n",
    "    for i in range(1,n-1):\n",
    "        if arr[i]>=arr[i-1] and arr[i]>=arr[i+1]:\n",
    "            return i\n",
    "    return -1\n",
    "n=int(input())\n",
    "arr=list(map(int,input().split()))\n",
    "peak=fd(arr)   \n",
    "print(peak)"
   ]
  },
  {
   "cell_type": "code",
   "execution_count": null,
   "metadata": {},
   "outputs": [],
   "source": []
  },
  {
   "cell_type": "code",
   "execution_count": null,
   "metadata": {},
   "outputs": [],
   "source": []
  }
 ],
 "metadata": {
  "kernelspec": {
   "display_name": "Python 3",
   "language": "python",
   "name": "python3"
  },
  "language_info": {
   "codemirror_mode": {
    "name": "ipython",
    "version": 3
   },
   "file_extension": ".py",
   "mimetype": "text/x-python",
   "name": "python",
   "nbconvert_exporter": "python",
   "pygments_lexer": "ipython3",
   "version": "3.11.6"
  }
 },
 "nbformat": 4,
 "nbformat_minor": 2
}
